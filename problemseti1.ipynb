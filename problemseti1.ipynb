{
  "nbformat": 4,
  "nbformat_minor": 0,
  "metadata": {
    "colab": {
      "name": "problemseti1.ipynb",
      "provenance": []
    },
    "kernelspec": {
      "name": "python3",
      "display_name": "Python 3"
    }
  },
  "cells": [
    {
      "cell_type": "code",
      "metadata": {
        "id": "NtXu14sFvqkD"
      },
      "source": [
        "x= range(0,100)\r\n",
        "for i in x :\r\n",
        "  if(i%15 == 0):\r\n",
        "    print(\"FizzBuzz\")\r\n",
        "  elif(i%5 == 0):\r\n",
        "    print(\"Buzz\")\r\n",
        "  elif(i%3 == 0): \r\n",
        "    print(\"Fizz\")\r\n",
        "  else:\r\n",
        "    print(i)"
      ],
      "execution_count": null,
      "outputs": []
    }
  ]
}
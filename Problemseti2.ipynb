{
  "nbformat": 4,
  "nbformat_minor": 0,
  "metadata": {
    "colab": {
      "name": "Problemseti2.ipynb",
      "provenance": []
    },
    "kernelspec": {
      "name": "python3",
      "display_name": "Python 3"
    }
  },
  "cells": [
    {
      "cell_type": "code",
      "metadata": {
        "id": "KU0-VHggzgek"
      },
      "source": [
        "def kontrol(str):\r\n",
        "    count1 = 1\r\n",
        "    say = 0\r\n",
        "    for ch in str:\r\n",
        "        say += 1\r\n",
        "        if ch == '@':\r\n",
        "            say1 = say\r\n",
        "            if (str[0:say-1].isidentifier()==False):\r\n",
        "                break\r\n",
        "            for ch1 in str[say:]:\r\n",
        "                say += 1\r\n",
        "                if ch1 == '.':\r\n",
        "                    if (str[say1:say - 1].isalnum() == False):\r\n",
        "                        break\r\n",
        "                    for ch2 in str[say:say + 4]:\r\n",
        "                        if ch2 == '.':\r\n",
        "                            for num in str[say:]:\r\n",
        "                                say += 1\r\n",
        "                                count1 += 1\r\n",
        "    if count1 != 1:\r\n",
        "        return True\r\n",
        "    else:\r\n",
        "        return False\r\n",
        "\r\n",
        "\r\n",
        "mailadresi = input('Mail adresinizi yazınız : ')\r\n",
        "if (kontrol(mailadresi) == True):\r\n",
        "    print('Mail adresiniz doğrudur')\r\n",
        "else:\r\n",
        "    print('Mail adresiniz yanlıştır')"
      ],
      "execution_count": null,
      "outputs": []
    }
  ]
}
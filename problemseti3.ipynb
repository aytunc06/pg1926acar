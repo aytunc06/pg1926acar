{
  "nbformat": 4,
  "nbformat_minor": 0,
  "metadata": {
    "colab": {
      "name": "problemseti3.ipynb",
      "provenance": []
    },
    "kernelspec": {
      "name": "python3",
      "display_name": "Python 3"
    }
  },
  "cells": [
    {
      "cell_type": "code",
      "metadata": {
        "id": "NtXu14sFvqkD"
      },
      "source": [
        "sayi= list(input(\"Bir sayı giriniz:\"))\r\n",
        "list.sort(sayi)\r\n",
        "print(sayi)"
      ],
      "execution_count": null,
      "outputs": []
    }
  ]
}
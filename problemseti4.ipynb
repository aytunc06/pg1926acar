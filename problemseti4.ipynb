{
  "nbformat": 4,
  "nbformat_minor": 0,
  "metadata": {
    "colab": {
      "name": "problemseti4.ipynb",
      "provenance": []
    },
    "kernelspec": {
      "name": "python3",
      "display_name": "Python 3"
    }
  },
  "cells": [
    {
      "cell_type": "code",
      "metadata": {
        "id": "NtXu14sFvqkD"
      },
      "source": [
        "x= list(input(\"Bir sayı dizisi giriniz\"))\r\n",
        "print(\"Liste içindeki en büyük sayı\",max(x))"
      ],
      "execution_count": null,
      "outputs": []
    }
  ]
}